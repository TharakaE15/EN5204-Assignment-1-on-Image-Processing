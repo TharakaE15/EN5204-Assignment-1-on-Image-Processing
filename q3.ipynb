{
 "cells": [
  {
   "cell_type": "code",
   "execution_count": null,
   "id": "d8070f6b-062d-4632-a6b4-6d35bede4e21",
   "metadata": {},
   "outputs": [],
   "source": [
    "import cv2 as cv\n",
    "import numpy as np\n",
    "import matplotlib.pyplot as plt\n",
    "\n",
    "def gammaCorrection(src, gamma):\n",
    "    invGamma = 1 / gamma\n",
    "\n",
    "    table = [((i / 255) ** invGamma) * 255 for i in range(256)]\n",
    "    table = np.array(table, np.uint8)\n",
    "\n",
    "    return cv.LUT(src, table)\n",
    "\n",
    "\n",
    "img = cv.imread('highlights_and_shadows.jpg')\n",
    "gammaImg = gammaCorrection(img, 2.2)\n",
    "\n",
    "hist_b = cv.calcHist([img],[0], None, [256], [0,256])\n",
    "hist_g = cv.calcHist([img],[1], None, [256], [0,256])\n",
    "hist_r = cv.calcHist([img],[2], None, [256], [0,256])\n",
    "\n",
    "c_hist_b = cv.calcHist([gammaImg],[0], None, [256], [0,256])\n",
    "c_hist_g = cv.calcHist([gammaImg],[1], None, [256], [0,256])\n",
    "c_hist_r = cv.calcHist([gammaImg],[2], None, [256], [0,256])\n",
    "\n",
    "fig, ax = plt.subplots(1,2, figsize=(10,5))\n",
    "ax[0].plot(hist_b, 'b')\n",
    "ax[0].plot(hist_g, 'g')\n",
    "ax[0].plot(hist_r, 'r')\n",
    "ax[0].set_xlabel('Histogram of Original image',fontsize=10)\n",
    "ax[1].plot(c_hist_b, 'b')\n",
    "ax[1].plot(c_hist_g, 'g')\n",
    "ax[1].plot(c_hist_r, 'r')\n",
    "ax[1].set_xlabel('Histogram of Gamma corrected image',fontsize=10)\n",
    "cv.imshow('Original image', img)\n",
    "cv.imshow('Gamma corrected image', gammaImg)\n",
    "cv.waitKey(0)\n",
    "cv.destroyAllWindows()"
   ]
  },
  {
   "cell_type": "code",
   "execution_count": null,
   "id": "ccb9f23f-8b24-41f6-af0f-b54d44d609d7",
   "metadata": {},
   "outputs": [],
   "source": [
    "git clone https://github.com/TharakaE15/EN5204-Assignment-1-on-Image-Processing.git\n"
   ]
  },
  {
   "cell_type": "code",
   "execution_count": null,
   "id": "c1ddbfb4-acf5-4354-b616-fafd323f3ad6",
   "metadata": {},
   "outputs": [],
   "source": [
    "git push\n"
   ]
  },
  {
   "cell_type": "code",
   "execution_count": null,
   "id": "9bde8e57-83e1-4679-8f70-fa0077ea0299",
   "metadata": {},
   "outputs": [],
   "source": []
  }
 ],
 "metadata": {
  "kernelspec": {
   "display_name": "Python 3 (ipykernel)",
   "language": "python",
   "name": "python3"
  },
  "language_info": {
   "codemirror_mode": {
    "name": "ipython",
    "version": 3
   },
   "file_extension": ".py",
   "mimetype": "text/x-python",
   "name": "python",
   "nbconvert_exporter": "python",
   "pygments_lexer": "ipython3",
   "version": "3.11.1"
  }
 },
 "nbformat": 4,
 "nbformat_minor": 5
}
